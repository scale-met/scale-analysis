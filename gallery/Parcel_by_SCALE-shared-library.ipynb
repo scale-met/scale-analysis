{
 "cells": [
  {
   "cell_type": "markdown",
   "id": "02bf6480",
   "metadata": {},
   "source": [
    "# SCALEの機能をFortran共有ライブラリとしてPythonから呼ぶ\n",
    "\n",
    "SCALEを共有ライブラリとしてコンパイルすることで, SCALE内部の機能を, Fortranのサブルーチンを介して, Pythonから呼ぶことができます. ここではSCALEが提供しているサブルーチンを用い, 大気下層から持ち上げたパーセルの温度の鉛直プロファイルや, それに基づくCAPEを計算する例を示します. この機能を使うには, 以下のような手続きが必要になります.\n",
    "* Fortran側\n",
    "    * 共有ライブラリオプションをつけてコンパイルされたSCALEを用意\n",
    "        * sysdep/Makedef*ファイル内で適宜\"-fPIC\"オプションをつけてmake\n",
    "    * インターフェースsubroutineコードを用意\n",
    "        * SCALE subroutineをcallする\n",
    "        * Pythonスクリプトによってcallされる\n",
    "* Python側\n",
    "    * インターフェースsubroutineコードを共有ライブラリ化したものを, ctypesライブラリを使って呼び出す\n",
    "\n",
    "具体的には, 以下のようにSCALE共有ライブラリとFortranのインターフェースサブルーチンを作成します.\n",
    "#### SCALEのコンパイル（\"5.3 SCALEライブラリの使い方\"参照）\n",
    "* sysdep/Makedef.*の変更 (オプションに-fPICを追加する)\n",
    "\n",
    "```\n",
    "FFLAGS_CORE = -cpp -m64 \\\n",
    "     -std=f2003 -fall-intrinsics -pedantic-errors -fimplicit-none -fmodule-private \\\n",
    "     -fconvert=big-endian -frecord-marker=4 -ffree-form -ffree-line-length-none \\\n",
    "     -fPIC\n",
    "FFLAGS_DYN = $(FFLAGS) -fPIC\n",
    "CFLAGS_FAST  = -O3 -m64 -fPIC\n",
    "```\n",
    "* 適切に環境変数(e.g., SCALE_SYS)を設定した上で, scale-5.5.1/scalelib/src 上でmake\n",
    "\n",
    "#### インターフェースsubroutineコードのコンパイル\n",
    "* 自作のFortranサブルーチンコードをコンパイルします(今回の例ではtest_scale_adiabat.f90)\n",
    "\n",
    "    mpif90 -shared -fPIC -o test_scale_adiabat.so test_scale_adiabat.f90 -J scale-5.5.1/include \\`nc-config --cflags\\` -L scale-5.5.1/lib -lscale \\`nc-config --libs\\`\n",
    "\n",
    "\n",
    "#### ※現在, SCALEライブラリを呼ぶ場合にPython側でMPI並列を使う方法は確立できていません."
   ]
  },
  {
   "cell_type": "markdown",
   "id": "87c81ebe",
   "metadata": {},
   "source": [
    "## ライブラリの読込\n",
    "* numpy: 数値計算ライブラリ\n",
    "* xarray: \n",
    "* matplotlib: 描画ライブラリ\n",
    "* ctypes: 外部関数ライブラリ. Fortranで作成した共有ライブラリを呼び出す.\n",
    "* mod_scale.g_file: SCALE解析ライブラリ(ファイル関係). 現在いるディレクトリにリンクを貼っておく必要がある. (e.g., ln -s /home/hoge/mod_scale ./)"
   ]
  },
  {
   "cell_type": "code",
   "execution_count": 1,
   "id": "25b8f5e0",
   "metadata": {},
   "outputs": [],
   "source": [
    "import numpy as np\n",
    "import xarray as xr\n",
    "from ctypes import *\n",
    "import matplotlib.pyplot as plt\n",
    "from mod_scale.g_file import get_xrvar, get_fpathlist\n",
    "plt.rcParams[\"font.size\"]=15"
   ]
  },
  {
   "cell_type": "markdown",
   "id": "946932a4",
   "metadata": {},
   "source": [
    "## データ情報の設定\n",
    "* dir1: scale-rm/test/tutorial/real/experiment/run へのパス\n",
    "* domainlabel: \"_d01\"などのドメインラベル. なければ\"\"\n",
    "* timelabel: \"_20070714-210000.000\"などの時間ラベル. なければ\"\"\n",
    "* PRC_NUM_X,PRC_NUM_Y: SCALE実行時に*.confに指定したプロセス数."
   ]
  },
  {
   "cell_type": "code",
   "execution_count": 2,
   "id": "91027eba",
   "metadata": {},
   "outputs": [],
   "source": [
    "# Data setting\n",
    "dir1 = \"./sampledata/scale-5.4.5/scale-rm/test/tutorial/real/experiment/run/\"\n",
    "\n",
    "domainlabel = \"_d01\"\n",
    "timelabel = \"\"\n",
    "\n",
    "PRC_NUM_X = 2\n",
    "PRC_NUM_Y = 2\n",
    "\n",
    "dir_out = \"./fig/\"\n",
    "savefig = True"
   ]
  },
  {
   "cell_type": "markdown",
   "id": "c3f3af59",
   "metadata": {},
   "source": [
    "## データ処理\n",
    "* ファイルの読込\n",
    "* Fortranサブルーチンとやりとりする入力・出力変数を準備"
   ]
  },
  {
   "cell_type": "code",
   "execution_count": 3,
   "id": "e8014d0c",
   "metadata": {},
   "outputs": [],
   "source": [
    "# Read history\n",
    "fpathlist =  get_fpathlist(dir1,\"history\",domainlabel,timelabel,PRC_NUM_X,PRC_NUM_Y)\n",
    "ds = get_xrvar(fpathlist)\n",
    "\n",
    "lon = ds.coords[\"lon\"].values\n",
    "lat = ds.coords[\"lat\"].values\n",
    "x  = ds.coords[\"x\"].values\n",
    "y = ds.coords[\"y\"].values\n",
    "z = ds.coords[\"z\"].values\n",
    "\n",
    "# input\n",
    "CZ = ds.coords[\"CZ\"][2:-2].values.astype(np.float64)\n",
    "FZ = ds.coords[\"FZ\"][2:-2].values.astype(np.float64)\n",
    "TEMP = ds[\"T\"].values.astype(np.float64)\n",
    "PRES = ds[\"PRES\"].values.astype(np.float64)\n",
    "QV = ds[\"QV\"].values.astype(np.float64)\n",
    "QC = np.zeros_like(TEMP) # ds[\"QC\"].values[tind,:,yind,xind].astype(np.float64)\n",
    "QR = np.zeros_like(TEMP) # ds[\"QR\"].values[tind,:,yind,xind].astype(np.float64)\n",
    "QI = np.zeros_like(TEMP) # ds[\"QI\"].values[tind,:,yind,xind].astype(np.float64)\n",
    "QS = np.zeros_like(TEMP) # ds[\"QS\"].values[tind,:,yind,xind].astype(np.float64)\n",
    "QG = np.zeros_like(TEMP) # ds[\"QG\"].values[tind,:,yind,xind].astype(np.float64)\n",
    "#\n",
    "TA = c_int32(TEMP.shape[0])\n",
    "KA = c_int32(TEMP.shape[1])\n",
    "KS = c_int32(1)\n",
    "KE = KA\n",
    "JA = c_int32(TEMP.shape[2])\n",
    "JS = c_int32(1)\n",
    "JE = JA\n",
    "IA = c_int32(TEMP.shape[3])\n",
    "IS = c_int32(1)\n",
    "IE = IA\n",
    "kstr = 2\n",
    "Kstr = c_int32(kstr)\n",
    "\n",
    "# output\n",
    "CAPE   = np.zeros( ( (TEMP.shape[0],TEMP.shape[2],TEMP.shape[3]) ) , dtype=np.float64)\n",
    "CIN    = np.zeros( ( (TEMP.shape[0],TEMP.shape[2],TEMP.shape[3]) ) , dtype=np.float64)\n",
    "LCL    = np.zeros( ( (TEMP.shape[0],TEMP.shape[2],TEMP.shape[3]) ) , dtype=np.float64)\n",
    "LFC    = np.zeros( ( (TEMP.shape[0],TEMP.shape[2],TEMP.shape[3]) ) , dtype=np.float64)\n",
    "LNB    = np.zeros( ( (TEMP.shape[0],TEMP.shape[2],TEMP.shape[3]) ) , dtype=np.float64)   \n",
    "DENS_p = np.zeros_like( TEMP ,dtype=np.float64)\n",
    "TEMP_p = np.zeros_like( TEMP ,dtype=np.float64)\n",
    "BUOY_p = np.zeros_like( TEMP ,dtype=np.float64)\n",
    "QV_p   = np.zeros_like( TEMP ,dtype=np.float64)\n"
   ]
  },
  {
   "cell_type": "markdown",
   "id": "60d12b82",
   "metadata": {},
   "source": [
    "* Fortranサブルーチンを呼び計算"
   ]
  },
  {
   "cell_type": "code",
   "execution_count": 4,
   "id": "eda0db0e",
   "metadata": {},
   "outputs": [
    {
     "name": "stderr",
     "output_type": "stream",
     "text": [
      "[Tomo:32724] shmem: mmap: an error occurred while determining whether or not /var/folders/20/816pt6953lv90cycx2l_v75c0000gn/T//ompi.Tomo.501/jf.0/467992576/sm_segment.Tomo.501.1be50000.0 could be created.\n"
     ]
    },
    {
     "name": "stdout",
     "output_type": "stream",
     "text": [
      "INFO  [IO_LOG_setup] The used config is output to the log.\n",
      "\n",
      "INFO  [PROF_setup] Setup\n",
      "INFO  [PROF_setup] Not found namelist. Default used.\n",
      "&PARAM_PROF\n",
      " PROF_RAP_LEVEL=2          ,\n",
      " PROF_MPI_BARRIER=F,\n",
      " /\n",
      "\n",
      "INFO  [PROF_setup] Rap output level              =            2\n",
      "INFO  [PROF_setup] Add MPI_barrier in every rap? =  F\n",
      "\n",
      "INFO  [CONST_setup] Setup\n",
      "INFO  [CONST_setup] Not found namelist. Default used.\n",
      "&PARAM_CONST\n",
      " CONST_RADIUS=  6371220.0000000000     ,\n",
      " CONST_OHM=  7.2920000000000000E-005,\n",
      " CONST_GRAV=  9.8066499999999994     ,\n",
      " CONST_RDRY=  287.04000000000002     ,\n",
      " CONST_CPDRY=  1004.6400000000000     ,\n",
      " CONST_LAPS=  6.4999999999999997E-003,\n",
      " CONST_PSTD=  101325.00000000000     ,\n",
      " CONST_PRE00=  100000.00000000000     ,\n",
      " CONST_TSTD=  288.14999999999998     ,\n",
      " CONST_THERMODYN_TYPE=\"EXACT                           \",\n",
      " CONST_SMALLPLANETFACTOR=  1.0000000000000000     ,\n",
      " /\n",
      "\n",
      "INFO  [CONST_setup] List of constants \n",
      "      PI                                                : PI      =    3.1415926535897931     \n",
      "      Small number                                      : EPS     =    2.2204460492503131E-016\n",
      "      Small number (1-EPS)                              : EPS1    =   0.99999999999999978     \n",
      "      Huge  number                                      : HUGE    =    1.7976931348623157E+308\n",
      "      undefined number (INT2)                           : UNDEF2  =       -32768\n",
      "      undefined number (REAL,general use)               : UNDEF   =   -9.9998999999999996E+030\n",
      "      undefined number (REAL4)                          : UNDEF4  =   -9.99990011E+30\n",
      "      undefined number (REAL8)                          : UNDEF8  =   -9.9998999999999996E+030\n",
      "      radius of the planet                          [m] : RADIUS  =    6371220.0000000000     \n",
      "      angular velocity of the planet              [1/s] : OHM     =    7.2920000000000000E-005\n",
      "      standard acceleration of gravity           [m/s2] : GRAV    =    9.8066499999999994     \n",
      "      Stefan-Boltzman constant                [W/m2/K4] : STB     =    5.6703730000000003E-008\n",
      "      von Karman constant                               : KARMAN  =   0.40000000000000002     \n",
      "      universal gas constant                  [J/mol/K] : R       =    8.3143600000000006     \n",
      "      mass weight (dry air)                     [g/mol] : Mdry    =    28.966000000000001     \n",
      "      specific gas constant (dry air)          [J/kg/K] : Rdry    =    287.04000000000002     \n",
      "      specific heat (dry air, const. pressure) [J/kg/K] : CPdry   =    1004.6400000000000     \n",
      "      specific heat (dry air, const. volume)   [J/kg/K] : Cvdry   =    717.59999999999991     \n",
      "      lapse rate of ISA                           [K/m] : LAPS    =    6.4999999999999997E-003\n",
      "      dry adiabatic lapse rate                    [K/m] : LAPSdry =    9.7613573021181708E-003\n",
      "      mass weight (water vapor)                 [g/mol] : Mvap    =    18.015999999999998     \n",
      "      specific gas constant (water vapor)      [J/kg/K] : Rvap    =    461.50000000000000     \n",
      "      specific heat (vapor, const. pressure)   [J/kg/K] : CPvap   =    1846.0000000000000     \n",
      "      specific heat (vapor, const. volume)     [J/kg/K] : CVvap   =    1384.5000000000000     \n",
      "      specific heat (liquid water)             [J/kg/K] : CL      =    4218.0000000000000     \n",
      "      specific heat (ice)                      [J/kg/K] : CI      =    2106.0000000000000     \n",
      "      Rdry / Rvap                                       : EPSvap  =   0.62197183098591557     \n",
      "      1 / EPSvap - 1                                    : EPSTvap =   0.60778985507246364     \n",
      "      latent heat of vaporizaion at 0C           [J/kg] : LHV0    =    2501000.0000000000     \n",
      "      latent heat of sublimation at 0C           [J/kg] : LHS0    =    2834000.0000000000     \n",
      "      latent heat of fusion      at 0C           [J/kg] : LHF0    =    333000.00000000000     \n",
      "      latent heat of vaporizaion at 0K           [J/kg] : LHV00   =    3148911.7999999998     \n",
      "      latent heat of sublimation at 0K           [J/kg] : LHS00   =    2905019.0000000000     \n",
      "      latent heat of fusion      at 0K           [J/kg] : LHF00   =   -243892.79999999993     \n",
      "      Thermodynamics calculation type : EXACT\n",
      "      saturate pressure of water vapor at 0C       [Pa] : PSAT0   =    610.77999999999997     \n",
      "      density of water                          [kg/m3] : DWATR   =    1000.0000000000000     \n",
      "      density of ice                            [kg/m3] : DICE    =    916.79999999999995     \n",
      "      speed of sound (dry air at 0C)              [m/s] : SOUND   =    331.31098140568781     \n",
      "      standard pressure                            [Pa] : Pstd    =    101325.00000000000     \n",
      "      pressure reference                           [Pa] : PRE00   =    100000.00000000000     \n",
      "      standard temperature (15C)                    [K] : Tstd    =    288.14999999999998     \n",
      "      temperature reference (0C)                    [K] : TEM00   =    273.14999999999998     \n",
      "\n",
      "INFO  [ATMOS_SATURATION_setup] Setup\n",
      "INFO  [ATMOS_SATURATION_setup] Not found namelist. Default used.\n",
      "&PARAM_ATMOS_SATURATION\n",
      " ATMOS_SATURATION_ULIMIT_TEMP=  273.14999999999998     ,\n",
      " ATMOS_SATURATION_LLIMIT_TEMP=  233.15000000000001     ,\n",
      " /\n",
      "\n",
      "INFO  [ATMOS_SATURATION_setup] Temperature range for liquid/ice mixture :  233.15 -  273.15\n",
      "\n",
      "INFO  [ATMOS_HYDROMETEOR_setup] Setup\n",
      "\n",
      "INFO  [ATMOS_SATURATION_setup] Setup\n",
      "INFO  [ATMOS_SATURATION_setup] Not found namelist. Default used.\n",
      "&PARAM_ATMOS_SATURATION\n",
      " ATMOS_SATURATION_ULIMIT_TEMP=  273.14999999999998     ,\n",
      " ATMOS_SATURATION_LLIMIT_TEMP=  233.15000000000001     ,\n",
      " /\n",
      "\n",
      "INFO  [ATMOS_SATURATION_setup] Temperature range for liquid/ice mixture :  233.15 -  273.15\n",
      "\n",
      "INFO  [PROF_rapreport] Computational Time Report (Rap level =  2)\n",
      " Main                             lev= 0: T(avg)=     1.725, T(max)=     1.725[     1], T(min)=     1.725[     1], N=        1\n"
     ]
    }
   ],
   "source": [
    "#print(\"(before) CAPE[0,0,0], CIN[0,0,0], LCL[0,0,0], LFC[0,0,0], LNB[0,0,0] =\", CAPE[0,0,0], CIN[0,0,0], LCL[0,0,0], LFC[0,0,0], LNB[0,0,0])\n",
    "\n",
    "intnumber   = 11 # no need to change\n",
    "arraynumber = 19 # no need to change\n",
    "f = np.ctypeslib.load_library(\"test_scale_adiabat.so\",\".\")\n",
    "f.test_scale_adiabat_.argtypes = [POINTER(c_int32) if tmp<=intnumber else np.ctypeslib.ndpointer(dtype=np.float64) for tmp in range(1, intnumber + arraynumber + 1)]\n",
    "f.test_scale_adiabat_.restype = c_void_p\n",
    "f.test_scale_adiabat_(\n",
    "    byref(TA), byref(KA), byref(KS), byref(KE), byref(IA), byref(IS), byref(IE), byref(JA), byref(JS), byref(JE), byref(Kstr),\n",
    "    TEMP, PRES, QV, QC, QR, QI, QS, QG, CZ, FZ,\n",
    "    CAPE, CIN, LCL, LFC, LNB, DENS_p, TEMP_p, BUOY_p, QV_p\n",
    ")\n",
    "del f\n",
    "\n",
    "#print(\"(after) CAPE[0,0,0], CIN[0,0,0], LCL[0,0,0], LFC[0,0,0], LNB[0,0,0] =\", CAPE[0,0,0], CIN[0,0,0], LCL[0,0,0], LFC[0,0,0], LNB[0,0,0])\n",
    "\n"
   ]
  },
  {
   "cell_type": "markdown",
   "id": "e8453e4b",
   "metadata": {},
   "source": [
    "## 描画\n",
    "* ある時刻・ある水平地点の, 環境場と持ち上げパーセルの, 温度鉛直プロファイル\n",
    "    * tind, xind, yind: 時間と水平地点に関するインデックス\n",
    "* 時間平均したCAPEの水平分布"
   ]
  },
  {
   "cell_type": "code",
   "execution_count": 5,
   "id": "78645c32",
   "metadata": {},
   "outputs": [
    {
     "data": {
      "image/png": "[encoded data removed]",
      "text/plain": [
       "<Figure size 432x288 with 1 Axes>"
      ]
     },
     "metadata": {
      "needs_background": "light"
     },
     "output_type": "display_data"
    },
    {
     "data": {
      "image/png": "[encoded data removed]",
      "text/plain": [
       "<Figure size 432x288 with 2 Axes>"
      ]
     },
     "metadata": {
      "needs_background": "light"
     },
     "output_type": "display_data"
    }
   ],
   "source": [
    "# Vertical profile of temperature for environment and lifted-parcel; CAPE and other parameters are attached as text\n",
    "tind = 5\n",
    "xind = 0\n",
    "yind = 0\n",
    "\n",
    "fig,ax=plt.subplots()\n",
    "ax.plot(TEMP[tind,:,yind,xind], z*1e-3,label=\"Env.\")\n",
    "ax.plot(TEMP_p[tind,:,yind,xind], z*1e-3,label=\"Parcel\")\n",
    "ax.set_title(\"TEMP\")\n",
    "ax.text(0.6, 0.5, f\"CAPE:{CAPE[tind,yind,xind]:.0f} J \\n CIN: {CIN[tind,yind,xind]:.0f} J \\n LCL: {LCL[tind,yind,xind]:.0f} m \\n LFC: {LFC[tind,yind,xind]:.0f} m \\n LNB: {LNB[tind,yind,xind]:.0f} m \", transform=ax.transAxes, bbox=dict(facecolor='white', alpha=1.0))\n",
    "ax.set_xlabel(\"(K)\")\n",
    "ax.set_ylabel(\"z (km)\")\n",
    "ax.set_xlim(190,310)\n",
    "ax.set_ylim(0,25)\n",
    "ax.grid()\n",
    "ax.legend(loc=\"lower left\")\n",
    "fig.tight_layout()\n",
    "if savefig:\n",
    "    fig.savefig(dir_out+\"Parcel-TEMP.png\")\n",
    "\n",
    "# Horizontal distribution of tIme-averaged CAPE\n",
    "fig,ax=plt.subplots()\n",
    "cax = ax.contourf(lon,lat,np.mean(CAPE,axis=0),cmap=\"jet\",levels=np.linspace(0,2500,21),extend=\"both\")\n",
    "cbar = plt.colorbar(cax,ax=ax)\n",
    "cbar.set_label(\"(J)\")\n",
    "ax.set_title(\"CAPE\")\n",
    "ax.set_xlabel(\"lon\")\n",
    "ax.set_ylabel(\"lat\")\n",
    "ax.set_aspect(\"equal\")\n",
    "fig.tight_layout()\n",
    "if savefig:\n",
    "    fig.savefig(dir_out+f\"CAPE_XY.png\")\n"
   ]
  },
  {
   "cell_type": "code",
   "execution_count": null,
   "id": "c21a4ee6",
   "metadata": {},
   "outputs": [],
   "source": []
  }
 ],
 "metadata": {
  "kernelspec": {
   "display_name": "Python 3 (ipykernel)",
   "language": "python",
   "name": "python3"
  },
  "language_info": {
   "codemirror_mode": {
    "name": "ipython",
    "version": 3
   },
   "file_extension": ".py",
   "mimetype": "text/x-python",
   "name": "python",
   "nbconvert_exporter": "python",
   "pygments_lexer": "ipython3",
   "version": "3.9.1"
  }
 },
 "nbformat": 4,
 "nbformat_minor": 5
}
